{
 "cells": [
  {
   "attachments": {},
   "cell_type": "markdown",
   "metadata": {},
   "source": [
    "<h1>Inteligência Aritifical - Algoritmo Genético - Problemas das 8 Rainhas <h1>"
   ]
  },
  {
   "attachments": {},
   "cell_type": "markdown",
   "metadata": {},
   "source": [
    "<h3> Aluno: Brainer Sueverti de Campos \n",
    "\n",
    "Ra: 790829 <h3>"
   ]
  },
  {
   "attachments": {},
   "cell_type": "markdown",
   "metadata": {},
   "source": [
    "<h3> \n",
    "Bibliotecas necessárias:\n",
    "\n",
    "random - para gerar números aleatórios\n",
    "pandas - para realizar as análises\n",
    "<h3>"
   ]
  },
  {
   "cell_type": "code",
   "execution_count": 14,
   "metadata": {},
   "outputs": [],
   "source": [
    "import random"
   ]
  },
  {
   "attachments": {},
   "cell_type": "markdown",
   "metadata": {},
   "source": [
    "<h3> Primeiramente serão definidas todas as funções necessárias para a solução do problema. <h3>"
   ]
  },
  {
   "attachments": {},
   "cell_type": "markdown",
   "metadata": {},
   "source": [
    "<h3> A função abaixo gera os cromossomos aleatóriamente utilizando a função random. Cada posição do vetor (cromossomo) está a posição da rainha na coluna.<h3>"
   ]
  },
  {
   "cell_type": "code",
   "execution_count": 15,
   "metadata": {},
   "outputs": [],
   "source": [
    "def cromossomos_aleatorios(n):\n",
    "    return [random.randint(0, n - 1) for _ in range(n)]"
   ]
  },
  {
   "cell_type": "code",
   "execution_count": 16,
   "metadata": {},
   "outputs": [],
   "source": [
    "def pop_aletoria():\n",
    "    x = []\n",
    "    for i in range(0,pop_max):\n",
    "        x.append(cromossomos_aleatorios(num_queen))\n",
    "    return x"
   ]
  },
  {
   "attachments": {},
   "cell_type": "markdown",
   "metadata": {},
   "source": [
    "<h3> A função fitness abaixo retorna a quantidade de pares de rainhas que não estão em colisão. Para o caso n=8, o número ideal de fitness é n*(n-1)/2 = 28. Primeiramente é calculada as colisões horizontais e depois as colisões diagonais, que subtrai do fitness ideal.<h3>"
   ]
  },
  {
   "cell_type": "code",
   "execution_count": 17,
   "metadata": {},
   "outputs": [],
   "source": [
    "def fitness(cromossomo):\n",
    "\n",
    "    #fitness ideal -> 28\n",
    "    max_fit = (len(cromossomo) * (len(cromossomo) - 1)) / 2\n",
    "\n",
    "\n",
    "    #Cálculo das colisões horizontais\n",
    "    colisoes_horizontais = (\n",
    "        sum([cromossomo.count(queen) - 1 for queen in cromossomo]) / 2\n",
    "    )\n",
    "\n",
    "    #Cálculo das colisões diagonais\n",
    "    n = len(cromossomo)\n",
    "    esq_diagonal = [0] * (2 * n - 1)\n",
    "    dir_diagonal = [0] * (2 * n - 1)\n",
    "    for i in range(n):\n",
    "        esq_diagonal[i + cromossomo[i] - 1] += 1\n",
    "        dir_diagonal[len(cromossomo) - i + cromossomo[i] - 2] += 1\n",
    "\n",
    "    colisoes_diagonais = 0\n",
    "    for i in range(2 * n - 1):\n",
    "        counter = 0\n",
    "        if esq_diagonal[i] > 1:\n",
    "            counter += esq_diagonal[i] - 1\n",
    "        if dir_diagonal[i] > 1:\n",
    "            counter += dir_diagonal[i] - 1\n",
    "        colisoes_diagonais += counter\n",
    "\n",
    "    return int(max_fit - (colisoes_horizontais + colisoes_diagonais))"
   ]
  },
  {
   "cell_type": "code",
   "execution_count": 18,
   "metadata": {},
   "outputs": [],
   "source": [
    "def all_fitness(populacao):\n",
    "  \n",
    "  fit = []\n",
    "  for i in range(len(populacao)):\n",
    "    f = fitness(populacao[i])\n",
    "    fit.append(f)\n",
    "\n",
    "  return fit"
   ]
  },
  {
   "attachments": {},
   "cell_type": "markdown",
   "metadata": {},
   "source": [
    "<h3> \n",
    "A função abaixo realiza o cruzamento entre dois cromossomos, utilizando como resultado a primeira metade de um cromossomo x como sua primeira metade e a segunda metade como a segunda metade de um cromossomo y.\n",
    "\n",
    "Exemplo:  \n",
    "\n",
    "x = [1,2,3,4,1,2,3,4]\n",
    "\n",
    "y = [5,6,7,8,5,6,7,8]\n",
    "\n",
    "resultado = [1,2,3,4,5,6,7,8]\n",
    "<h3>"
   ]
  },
  {
   "cell_type": "code",
   "execution_count": 19,
   "metadata": {},
   "outputs": [],
   "source": [
    "def crossover(x,y):\n",
    "    #tamanho do cromossomo\n",
    "    n = len(x)\n",
    "    #criação do resultado do crossover\n",
    "    resultado1 = [0] * n\n",
    "    resultado2 = [0] * n\n",
    "    #crossover\n",
    "    #a primeira metade do resultado é a primeira metade de x\n",
    "    #a segunda metade do resultado é a segunda metade de y\n",
    "    for i in range(n):\n",
    "        if i<int(n/2):\n",
    "            resultado1[i] = x[i]\n",
    "            resultado2[i] = y[i]\n",
    "        else:\n",
    "            resultado1[i] = y[i]\n",
    "            resultado2[i] = x[i]\n",
    "    return resultado1,resultado2"
   ]
  },
  {
   "attachments": {},
   "cell_type": "markdown",
   "metadata": {},
   "source": [
    "<h3> função abaxio realiza a mutação em determinada taxa, na qual é selecionada uma posição e mudado o valor. <h3>"
   ]
  },
  {
   "cell_type": "code",
   "execution_count": 20,
   "metadata": {},
   "outputs": [],
   "source": [
    "def mutacao(filhos,taxa):\n",
    "\n",
    "  for i in range(len(filhos)):\n",
    "    if random.random() < taxa:\n",
    "      pos = random.randint(0,num_queen-1)\n",
    "      filhos[i][pos] = random.randint(0,num_queen-1)\n",
    "\n",
    "  return filhos"
   ]
  },
  {
   "attachments": {},
   "cell_type": "markdown",
   "metadata": {},
   "source": [
    "<h3> A seleção dos cromossomos que serão cruzados se dá através da função abaixo. É sorteado dois números aleatórios como posição do vetor fitnesses, que armazenam os valores da função fitness para cada cromossomo da população, utilizando o valor da posição é possível encontrar os cromossomos e, assim, dentre esses dois cromossomos é feito a escolha do que tiver o maior valor da função fitness, isso é feito para selecionar dois cromossomos. <h3>  "
   ]
  },
  {
   "cell_type": "code",
   "execution_count": 21,
   "metadata": {},
   "outputs": [],
   "source": [
    "def selecao_torneio(fitnesses):\n",
    "  \n",
    "  ind1 = -1\n",
    "  ind2 = -1\n",
    "\n",
    "  while ind1 == ind2:\n",
    "    #primeiro selecionado\n",
    "    sorteados = random.sample(range(0,pop_max), 2)\n",
    "    if fitnesses[sorteados[0]] > fitnesses[sorteados[1]]:\n",
    "      ind1 = sorteados[0]\n",
    "    else:\n",
    "      ind1 = sorteados[1]\n",
    "    #segundo selecionado\n",
    "    sorteados = random.sample(range(0,pop_max), 2)\n",
    "    if fitnesses[sorteados[0]] > fitnesses[sorteados[1]]:\n",
    "      ind2 = sorteados[0]\n",
    "    else:\n",
    "      ind2 = sorteados[1]  \n",
    "        \n",
    "  return ind1,ind2"
   ]
  },
  {
   "attachments": {},
   "cell_type": "markdown",
   "metadata": {},
   "source": [
    "<h3> A função abaixo seleciona os dois maiores fitness da população <h3>"
   ]
  },
  {
   "cell_type": "code",
   "execution_count": 22,
   "metadata": {},
   "outputs": [],
   "source": [
    "def elitismo(fitnesses):\n",
    "\n",
    "  x = fitnesses.index(max(fitnesses))\n",
    "  fitnesses[x] = 0\n",
    "  y = fitnesses.index(max(fitnesses))\n",
    "\n",
    "  return x,y"
   ]
  },
  {
   "attachments": {},
   "cell_type": "markdown",
   "metadata": {},
   "source": [
    "<h3>Abaixo é implementado o algoritmo genético com a funções criadas acima. O algoritmo segue os passos abaixo:<h3>\n",
    "<div>\n",
    "\n",
    "(1) Gerada uma população alaeatória\n",
    "\n",
    "(2) Calculado o fitness de todos os cromossomos\n",
    "\n",
    "(3) Verificado se há o fitness máximo (solução)\n",
    "\n",
    "(4) Seleciona os cromossomos mais promissores (fitness maior) para a nova população\n",
    "\n",
    "(5) Seleciona, através de torneio, os cromossomos\n",
    "\n",
    "(6) Cruza os cromossomos selecionados e cria a nova população (muda de geração)\n",
    "\n",
    "(7) Refaz os passos 2, 3, 4, 5 e 6 até encontrar a solução ou atingir o número máximo de gerações\n",
    "<div>"
   ]
  },
  {
   "cell_type": "code",
   "execution_count": 44,
   "metadata": {},
   "outputs": [
    {
     "name": "stdout",
     "output_type": "stream",
     "text": [
      "A solução foi encontrada: [6, 2, 0, 5, 7, 4, 1, 3] na geração  13\n"
     ]
    }
   ],
   "source": [
    "#Parametros\n",
    "num_queen = 8\n",
    "pop_max = 500\n",
    "pop_inicial = pop_aletoria()\n",
    "ger_atual = 0\n",
    "ger_max = 1000\n",
    "encontrou = False\n",
    "\n",
    "#Enquanto não encontrar ou estiver na geração máxima\n",
    "while(ger_atual != ger_max and encontrou != True):\n",
    "    #população nova\n",
    "    nova_pop = [[0 for i in range(num_queen)] for i in range(pop_max)]\n",
    "    #fitness dos cromossomos\n",
    "    fitnesses = all_fitness(pop_inicial)\n",
    "    for i in range(0,len(fitnesses)):\n",
    "        #caso encontre a solução\n",
    "        if fitnesses[i]==28:\n",
    "            encontrou = True\n",
    "            solucao = pop_inicial[i]\n",
    "            ger_solucao = ger_atual\n",
    "            print(\"A solução foi encontrada:\",solucao,\"na geração \",ger_atual)\n",
    "            break\n",
    "        elif fitnesses[i]==27:\n",
    "            solucao = pop_inicial[i]\n",
    "    #elitismo\n",
    "    elite = elitismo(fitnesses.copy())\n",
    "    nova_pop[0] = pop_inicial[elite[0]]\n",
    "    nova_pop[1] = pop_inicial[elite[1]]\n",
    "    num_filhos = 2\n",
    "    #Cruzamento\n",
    "    while num_filhos < pop_max:\n",
    "        ind_vencedores = selecao_torneio(fitnesses)\n",
    "        filhos = crossover(pop_inicial[ind_vencedores[0]],pop_inicial[ind_vencedores[1]])\n",
    "        filhos = mutacao(filhos,0.5)\n",
    "        nova_pop[num_filhos] = filhos[0]\n",
    "        nova_pop[num_filhos+1] = filhos[1]\n",
    "        num_filhos = num_filhos + 2\n",
    "    pop_inicial = nova_pop.copy()\n",
    "    nova_pop.clear()\n",
    "    ger_atual = ger_atual + 1\n",
    "if(ger_atual==ger_max):\n",
    "    print(\"A solução ótima não foi encontrada,a melhor solução encontrada foi: \",solucao)\n"
   ]
  },
  {
   "attachments": {},
   "cell_type": "markdown",
   "metadata": {},
   "source": [
    "<h3> Referências: <h3>\n",
    "<h4> https://colab.research.google.com/drive/1liCLaczXpSgoYrw8UKcAaLvvBBeLDHDu?usp=sharing<h4>\n",
    "<h4> https://www.kaggle.com/code/aminizahra/genetic-algorithm-8-queens-problem/notebook<h4>\n",
    "<h4> https://github.com/mahdihassanzade/N-Queen-Problem-using-Genetic-Algorithm<h4>"
   ]
  }
 ],
 "metadata": {
  "kernelspec": {
   "display_name": "Python 3",
   "language": "python",
   "name": "python3"
  },
  "language_info": {
   "codemirror_mode": {
    "name": "ipython",
    "version": 3
   },
   "file_extension": ".py",
   "mimetype": "text/x-python",
   "name": "python",
   "nbconvert_exporter": "python",
   "pygments_lexer": "ipython3",
   "version": "3.10.9"
  },
  "orig_nbformat": 4,
  "vscode": {
   "interpreter": {
    "hash": "3e7e5ca386ab4a86f6af4aee27dd2e3240c78601389cd2a20c8d3a83f0944d0e"
   }
  }
 },
 "nbformat": 4,
 "nbformat_minor": 2
}
